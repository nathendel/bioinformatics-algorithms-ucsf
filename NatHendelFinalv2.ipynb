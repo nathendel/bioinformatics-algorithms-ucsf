{
 "cells": [
  {
   "cell_type": "markdown",
   "metadata": {},
   "source": [
    "# Introduction\n",
    "\n",
    "Nathan L. Hendel\n",
    "\n",
    "BMI 203 Final Project\n",
    "\n",
    "version 2\n",
    "\n",
    "16 April 2016\n",
    "\n",
    "Disclaimers: I worked closely with Daniel Asarnow and Cole Helsell. Together we discussed ideas and shared some snippets of code.\n",
    "\n",
    "First, we import useful packages. Scikit-learn did most of the heavy lifting, it has different choices for learning machines.\n"
   ]
  },
  {
   "cell_type": "code",
   "execution_count": 2,
   "metadata": {
    "code_folding": [],
    "collapsed": true,
    "hide_input": false
   },
   "outputs": [],
   "source": [
    "#import statements\n",
    "from __future__ import division\n",
    "from __future__ import print_function\n",
    "import sys\n",
    "import os\n",
    "import os.path\n",
    "import time\n",
    "import random\n",
    "import numpy as np\n",
    "import scipy as sp\n",
    "import sklearn.datasets\n",
    "import sklearn.preprocessing\n",
    "import sklearn.cross_validation\n",
    "import sklearn.svm\n",
    "import sklearn.metrics\n",
    "import sklearn.ensemble\n",
    "import sklearn.linear_model\n",
    "from Bio.Seq import Seq\n",
    "from Bio.Alphabet import IUPAC\n",
    "from Bio import motifs\n",
    "import matplotlib.pyplot as plt\n",
    "import seaborn as sns\n",
    "sns.set()\n",
    "%matplotlib inline"
   ]
  },
  {
   "cell_type": "markdown",
   "metadata": {},
   "source": [
    "Logistic function takes any real number as input and returns a value between 0 and 1. In this project, I used it to convert distance scores returned by the machine learning algorithm and convert it into probabilities.\n"
   ]
  },
  {
   "cell_type": "code",
   "execution_count": 5,
   "metadata": {
    "collapsed": true
   },
   "outputs": [],
   "source": [
    "def logistic(z):\n",
    "    return 1 / (1 + np.exp(-z))"
   ]
  },
  {
   "cell_type": "markdown",
   "metadata": {},
   "source": [
    "# Prediction of RAP1 binding sites\n",
    "\n",
    "We are given three sets of sequences, one of positive examples, one of negative examples, and one of test (unknown) sequences. These three file parsing functions are based on code by Derek Britain."
   ]
  },
  {
   "cell_type": "code",
   "execution_count": 6,
   "metadata": {
    "code_folding": [],
    "collapsed": true,
    "hide_input": false
   },
   "outputs": [],
   "source": [
    "def make_pos_list(directory):\n",
    "    positives = []\n",
    "    with open(directory) as file:\n",
    "        for line in file:\n",
    "            seq = Seq(line.rstrip(), IUPAC.unambiguous_dna)\n",
    "            positives.append(seq)\n",
    "    return positives\n",
    "\n",
    "\n",
    "def make_neg_list(directory,per_seq,pos_sequences):\n",
    "    negatives = []\n",
    "    i=-1\n",
    "    with open(directory) as file:\n",
    "        for line in file:\n",
    "            \n",
    "            if line[0] == '>':\n",
    "                i+=1\n",
    "                continue\n",
    "                \n",
    "            if len(negatives) == i:\n",
    "                negatives.append(line.rstrip())\n",
    "                \n",
    "            else:\n",
    "                negatives[i]+=line.rstrip()\n",
    "    \n",
    "    #randomly draw sequences from master negative list\n",
    "#     subset = random.sample(negatives, number_seq)\n",
    "    selection = []\n",
    "    \n",
    "    #grab a 17mer from each sequence in the list\n",
    "    for i in range(0, per_seq):\n",
    "        for seq in negatives:\n",
    "            point = random.randint(17,len(seq))\n",
    "            candidate = Seq(seq[point-17:point], IUPAC.unambiguous_dna)\n",
    "\n",
    "            #check if the sequence is a perfect match with a known positive\n",
    "            if candidate not in pos_sequences:\n",
    "                selection.append(candidate)  \n",
    "        \n",
    "    return selection\n",
    "\n",
    "def make_test_data(directory):\n",
    "    sequences = []\n",
    "    with open(directory) as file:\n",
    "        for line in file:\n",
    "            seq = Seq(line.rstrip(), IUPAC.unambiguous_dna)\n",
    "            #create list of tuples with sequences and True output\n",
    "            sequences.append(seq)\n",
    "    return sequences"
   ]
  },
  {
   "cell_type": "markdown",
   "metadata": {},
   "source": [
    "## Sequence analysis\n",
    "In this section, I analyze the example sequences in preparation for converting them into a good training set for a machine learning algorithm.\n"
   ]
  },
  {
   "cell_type": "code",
   "execution_count": 76,
   "metadata": {
    "collapsed": false
   },
   "outputs": [],
   "source": [
    "topdir = '/Users/student/Documents/UCSF/algorithms/final-project/'\n",
    "test_seq = make_test_data(os.path.join(topdir, 'rap1-lieb-test.txt'))\n",
    "pos = make_pos_list(os.path.join(topdir,'rap1-lieb-positives.txt'))\n",
    "neg = make_neg_list(os.path.join(topdir, \n",
    "         'yeast-upstream-1k-negative.fa'), 10, set(pos + test_seq))"
   ]
  },
  {
   "cell_type": "markdown",
   "metadata": {},
   "source": [
    "Here we use the concept of the position-specific scoring matrix (PSSM). This is a 4xK matrix, where K is the length of the sequence, and 4 is for the number of nucleotides (A,G,C,T). The values are the frequencies of each nucleotide at each position in the positive example set. The PSSM score takes an input sequence and sums the values for the population frequency of each nucleotide in the input sequence. I used a BioPython motif object to simply calculation."
   ]
  },
  {
   "cell_type": "code",
   "execution_count": 77,
   "metadata": {
    "collapsed": true
   },
   "outputs": [],
   "source": [
    "rap1 = motifs.create(pos)\n",
    "pssm = rap1.counts.normalize(pseudocounts=0.5).log_odds()\n",
    "neg_pssm_scores = [pssm.calculate(x) for x in neg]\n",
    "pos_pssm_scores = [pssm.calculate(x) for x in pos]\n",
    "test_pssm_scores = [pssm.calculate(x) for x in test_seq]\n",
    "pos_scores = np.array([[pssm[char][i] for i, char in enumerate(p)] for p in pos], ndmin=2)\n",
    "neg_scores = np.array([[pssm[char][i] for i, char in enumerate(p)] for p in neg], ndmin=2)\n",
    "test_scores = np.array([[pssm[char][i] for i, char in enumerate(p)] for p in test_seq], ndmin=2)\n",
    "neg_sidx = sorted(np.arange(len(neg)), key=lambda i: neg_pssm_scores[i], reverse=True)"
   ]
  },
  {
   "cell_type": "markdown",
   "metadata": {
    "hide_input": true
   },
   "source": [
    "Here is a visualization of the PSSM scores. Notice that there is no overlap between negative examples and positive examples. Also notice that the test sequence scores are in between the negative examples and the positive examples. This means that to train our machine learning algorithm, we must curate our training set to include the negative examples most similar to positive examples."
   ]
  },
  {
   "cell_type": "code",
   "execution_count": 78,
   "metadata": {
    "collapsed": false,
    "hide_input": true
   },
   "outputs": [
    {
     "data": {
      "image/png": "[encoded data removed]",
      "text/plain": [
       "<matplotlib.figure.Figure at 0x10cf50a10>"
      ]
     },
     "metadata": {},
     "output_type": "display_data"
    }
   ],
   "source": [
    "plt.figure(figsize=(12,6))\n",
    "sns.distplot(neg_pssm_scores, label='negative examples');\n",
    "sns.distplot(test_pssm_scores, label='test sequences');\n",
    "sns.distplot(pos_pssm_scores, label='positive examples');\n",
    "plt.xlim((-60, 25));\n",
    "plt.title('PSSM scores of neg, test, and pos');\n",
    "plt.legend(loc=2);\n",
    "plt.xlabel('PSSM score');\n",
    "plt.ylabel('Normalized counts');"
   ]
  },
  {
   "cell_type": "markdown",
   "metadata": {},
   "source": [
    "Here I begin to prepare the training data for the machine learning algorithm. One obstacle is that we have substantially more negative examples than positive. If the algorithm trained on all the data we have, it would be overloaded with negative examples and have trouble deciding a sequence is positive. To avoid this problem, I have chosen to use 200 negative sequences to accompany the 100 positives we were given in the training set.\n",
    "\n",
    "To solve the issue of the significant space in PSSM score between negative examples and positive examples, I chose to use the 100 negative examples with the highest PSSM score. My negative set is 100 random negative sequences and 100 high-PSSM scoring negative sequences."
   ]
  },
  {
   "cell_type": "code",
   "execution_count": 79,
   "metadata": {
    "collapsed": false,
    "hide_input": false
   },
   "outputs": [],
   "source": [
    "N_pos=100\n",
    "N_neg=200 #total number of negatives\n",
    "N_topneg = 100\n",
    "\n",
    "pos_idx = np.random.choice(np.arange(len(pos)), N_pos, replace=False)\n",
    "pos_labels = np.zeros(len(pos), dtype = bool)\n",
    "pos_labels[pos_idx] = True\n",
    "\n",
    "neg_idx = np.concatenate([neg_sidx[:N_topneg], \n",
    "                         np.random.choice(neg_sidx[N_topneg:], N_neg-N_topneg, replace=False)])\n",
    "\n",
    "# neg_idx = np.random.choice(np.arange(len(neg)), N_neg, replace=False)\n",
    "\n",
    "neg_labels = np.zeros(len(neg), dtype = bool)\n",
    "neg_labels[neg_idx] = True"
   ]
  },
  {
   "cell_type": "code",
   "execution_count": 80,
   "metadata": {
    "collapsed": false,
    "hide_input": true
   },
   "outputs": [
    {
     "data": {
      "image/png": "[encoded data removed]",
      "text/plain": [
       "<matplotlib.figure.Figure at 0x108c4a690>"
      ]
     },
     "metadata": {},
     "output_type": "display_data"
    }
   ],
   "source": [
    "bot = [neg[i] for i in neg_idx]\n",
    "\n",
    "n_pssm_scores = [pssm.calculate(x) for x in bot]\n",
    "\n",
    "plt.figure(figsize=(12,6))\n",
    "#sns.distplot(neg_pssm_scores);\n",
    "sns.distplot(test_pssm_scores, label = 'test');\n",
    "sns.distplot(pos_pssm_scores, label = 'positive examples');\n",
    "sns.distplot(n_pssm_scores, label = 'negative examples')\n",
    "plt.xlim((-60, 25));\n",
    "plt.title('Training data');\n",
    "plt.xlabel('PSSM score');\n",
    "plt.ylabel('Normalized counts');"
   ]
  },
  {
   "cell_type": "markdown",
   "metadata": {},
   "source": [
    "## Preparing training set\n",
    "### as bitstring \n",
    "\n",
    "The function below converts a sequence into a bitstring representation of the sequence. In this case, G is converted into 0001, T into 0010, A into 0100, and C into 1000. So the sequence 'AG' would become 01000001. With Daniel Asarnow and Cole Helsell, we thought about condensing the bitstring representations into two bit strings: 00, 10, 01, and 11. However we noticed that the distance between 00 and 11 is different than the distance between 00 and 10. We did not want to introduce this bias, so we settled on this 4-bit representation. This sequence-to-bitstring converter will be used later as part of the training set for the machine learning algorithm."
   ]
  },
  {
   "cell_type": "code",
   "execution_count": 7,
   "metadata": {
    "code_folding": [],
    "collapsed": true
   },
   "outputs": [],
   "source": [
    "# convert sequences into array of 0s and 1s\n",
    "def bitstring(seq):\n",
    "    bs = np.zeros(len(seq)*4)\n",
    "    nuc_dict = {'G': 3, 'T': 2, 'A': 1, 'C':0 }\n",
    "    for i,nuc in enumerate(seq):\n",
    "        bs[i*4+nuc_dict[nuc]] = 1\n",
    "    return bs"
   ]
  },
  {
   "cell_type": "code",
   "execution_count": 26,
   "metadata": {
    "collapsed": false
   },
   "outputs": [],
   "source": [
    "pos_bits = np.array([bitstring(i) for i in pos])\n",
    "neg_bits = np.array([bitstring(i) for i in neg])\n",
    "test_bits = np.array([bitstring(i) for i in test_seq])"
   ]
  },
  {
   "cell_type": "markdown",
   "metadata": {},
   "source": [
    "Here I prepare the training data, called \"entry\", and whether each sequence is positive or negative, represented as an array of booleans called \"labels\". "
   ]
  },
  {
   "cell_type": "code",
   "execution_count": 40,
   "metadata": {
    "collapsed": false
   },
   "outputs": [],
   "source": [
    "entry = np.concatenate([pos_bits[pos_labels], neg_bits[neg_labels]], axis=0)\n",
    "labels = np.concatenate([np.ones(len(pos_idx), dtype=bool), np.zeros(len(neg_idx), dtype=bool)])"
   ]
  },
  {
   "cell_type": "markdown",
   "metadata": {},
   "source": [
    "### as bitstring with PSSM score\n",
    "\n",
    "This is an alternate version of the training set with the PSSM score concatenated onto the bitstring vector. This representation of the example sequence may improve performance. PSSM scores are good indicators of sequence similarity, and perhaps it is a useful metric that is not redundant with the sequence in bitstring format. If it is not useful, the algorithm should down-weight it."
   ]
  },
  {
   "cell_type": "code",
   "execution_count": 74,
   "metadata": {
    "collapsed": false
   },
   "outputs": [],
   "source": [
    "pos_bitpssm = np.concatenate([pos_bits, pos_scores], axis=1)\n",
    "neg_bitpssm = np.concatenate([neg_bits, neg_scores], axis=1)\n",
    "test_bitpssm = np.concatenate([test_bits, test_scores], axis=1)\n",
    "\n",
    "entry_bitpssm = np.concatenate([pos_bitpssm[pos_labels], neg_bitpssm[neg_labels]], axis=0)"
   ]
  },
  {
   "cell_type": "markdown",
   "metadata": {},
   "source": [
    "## Machine Learning with SVM\n",
    "\n",
    "I used an Support Vector Machine from the scikit learn package in Python. This is a supervised learning model used for classification. The SVM receives training data and places them in a graph. It then creates a division between the positive and negative training set.The machine learns by adjusting its division to be that with the highest minimum distance to the training examples. When given a point to classify, the SVM places it in the graph and then measures the distance between the point and the division.  This distance can be easily converted into a score between 0 and 1 by using the logisitic function defined earlier.\n",
    "\n",
    "\n",
    "The Linear SVM uses a hyperplane with the number of dimensions as the input data. This works well, however the general SVM works better, because its division shape is more flexible. I use sklearn.svm.SVC to use support vector clustering. I use the default radial basis function kernel, which allows us to easily compute distances between points in high dimesional space. The kernel allows us to skip placing each test point in the high-dimensional graph by essentially computing dot products between the test point and points in the training set. This is different than a neural network, which creates a set of weights that adjust to form good prediction.\n",
    "\n",
    "### Cross-Validation\n",
    "For cross-validation, I am using the scikit-learn method `cross_validation`. This splits up the training data into sections to train on and sections to test. I use `StratifiedKFold`, which divides the training set into `k` subsets, where each element of the training data is in exactly one subset. I then iterate over each of these subsets and train the network on the data not in the subset, and then predict the values of the subset. This method results in an array called `label_pred` with prediction values for each value in the training set. The display of the next cell is the confusion matrix, which shows the true positives (upper left), false positives (upper right), false negatives (lower left), and false negatives (lower right). There are very few false positives and true positives, which shows that the SVM performs well."
   ]
  },
  {
   "cell_type": "markdown",
   "metadata": {},
   "source": [
    "### Training on bitstrings only"
   ]
  },
  {
   "cell_type": "code",
   "execution_count": 68,
   "metadata": {
    "collapsed": false
   },
   "outputs": [
    {
     "data": {
      "text/plain": [
       "array([[197,   3],\n",
       "       [  2,  98]])"
      ]
     },
     "execution_count": 68,
     "metadata": {},
     "output_type": "execute_result"
    }
   ],
   "source": [
    "k=5\n",
    "skf=sklearn.cross_validation.StratifiedKFold(labels,k)\n",
    "\n",
    "label_pred = np.empty(len(labels))\n",
    "label_dec = np.empty(len(labels))\n",
    "\n",
    "for train_idx, test_idx in skf:\n",
    "    clf=sklearn.svm.SVC(C=3)\n",
    "    clf.fit(entry[train_idx,:], labels[train_idx])\n",
    "    label_pred[test_idx] = clf.predict(entry[test_idx,:])\n",
    "    \n",
    "cm = sklearn.metrics.confusion_matrix(labels,label_pred)\n",
    "cm"
   ]
  },
  {
   "cell_type": "code",
   "execution_count": 70,
   "metadata": {
    "collapsed": false
   },
   "outputs": [],
   "source": [
    "ypred_all = np.empty(len(labels))\n",
    "ydec_all = np.empty(test_bits.shape[0])\n",
    "\n",
    "svm_all = sklearn.svm.SVC(C=3,kernel='rbf')\n",
    "# Train classifier.\n",
    "svm_all.fit(entry, labels)\n",
    "# Test classifier.\n",
    "ypred_all = svm_all.predict(test_bits)\n",
    "ydec_all = logistic(svm_all.decision_function(test_bits))\n"
   ]
  },
  {
   "cell_type": "code",
   "execution_count": 84,
   "metadata": {
    "collapsed": false
   },
   "outputs": [
    {
     "data": {
      "image/png": "[encoded data removed]",
      "text/plain": [
       "<matplotlib.figure.Figure at 0x109766f90>"
      ]
     },
     "metadata": {},
     "output_type": "display_data"
    }
   ],
   "source": [
    "plt.hist(ydec_all);\n",
    "plt.xlim(0,1);\n",
    "plt.xlabel('Score');\n",
    "plt.ylabel('Counts');\n",
    "plt.xlabel('Training on bitstring only');"
   ]
  },
  {
   "cell_type": "code",
   "execution_count": 150,
   "metadata": {
    "collapsed": false
   },
   "outputs": [],
   "source": [
    "with open('seq_score_2.txt', 'w') as f:\n",
    "    for i in range(len(test_seq)):\n",
    "        string = str(test_seq[i])+'\\t%s' %ydec_all[i]+'\\n'\n",
    "        f.write(string)"
   ]
  },
  {
   "cell_type": "markdown",
   "metadata": {},
   "source": [
    "### Training on bitstrings with PSSM"
   ]
  },
  {
   "cell_type": "code",
   "execution_count": 53,
   "metadata": {
    "collapsed": false
   },
   "outputs": [
    {
     "data": {
      "text/plain": [
       "array([[196,   4],\n",
       "       [  1,  99]])"
      ]
     },
     "execution_count": 53,
     "metadata": {},
     "output_type": "execute_result"
    }
   ],
   "source": [
    "k=5\n",
    "skf=sklearn.cross_validation.StratifiedKFold(labels,k)\n",
    "\n",
    "label_pred_bitpssm = np.empty(len(labels))\n",
    "label_dec_bitpssm = np.empty(len(labels))\n",
    "\n",
    "for train_idx, test_idx in skf:\n",
    "    clf_bitpssm=sklearn.svm.SVC(C=3)\n",
    "    clf_bitpssm.fit(entry_bitpssm[train_idx,:], labels[train_idx])\n",
    "    label_pred_bitpssm[test_idx] = clf_bitpssm.predict(entry_bitpssm[test_idx,:])\n",
    "    \n",
    "cm_bitpssm = sklearn.metrics.confusion_matrix(labels,label_pred_bitpssm)\n",
    "cm_bitpssm"
   ]
  },
  {
   "cell_type": "code",
   "execution_count": 54,
   "metadata": {
    "collapsed": false
   },
   "outputs": [
    {
     "data": {
      "text/plain": [
       "array([ 0.1513889 ,  0.17851332,  0.28197562, ...,  0.18730222,\n",
       "        0.1705663 ,  0.25326356])"
      ]
     },
     "execution_count": 54,
     "metadata": {},
     "output_type": "execute_result"
    }
   ],
   "source": [
    "ydec_all2 = np.empty(test_bitpssm.shape[0])\n",
    "svm_all2 = sklearn.svm.SVC(C=3,kernel='rbf')\n",
    "\n",
    "# Train classifier.\n",
    "svm_all2.fit(entry_bitpssm, labels)\n",
    "\n",
    "# Test classifier.\n",
    "ydec_all2 = logistic(svm_all2.decision_function(test_bitpssm))\n",
    "\n",
    "# ydec_all = svm_all.predict_proba(test_bits)\n",
    "ydec_all2"
   ]
  },
  {
   "cell_type": "code",
   "execution_count": 91,
   "metadata": {
    "collapsed": false
   },
   "outputs": [
    {
     "data": {
      "image/png": "[encoded data removed]",
      "text/plain": [
       "<matplotlib.figure.Figure at 0x109d51050>"
      ]
     },
     "metadata": {},
     "output_type": "display_data"
    }
   ],
   "source": [
    "plt.hist(ydec_all2);\n",
    "plt.xlim(0,1);\n",
    "plt.xlabel('Score');\n",
    "plt.ylabel('Counts');\n",
    "plt.xlabel('Training on bitstring with PSSM');"
   ]
  },
  {
   "cell_type": "code",
   "execution_count": 28,
   "metadata": {
    "collapsed": true
   },
   "outputs": [],
   "source": [
    "with open('nathendel_scores.txt', 'w') as f:\n",
    "    for i in range(len(test_seq)):\n",
    "        string = str(test_seq[i])+'\\t%s' %ydec_all2[i]+'\\n'\n",
    "        f.write(string)"
   ]
  },
  {
   "cell_type": "markdown",
   "metadata": {},
   "source": [
    "## Additional cross-validation\n",
    "Since I am turning in this version of my project after the due date, I was able to use my classmates' results as a guide. Daniel Asarnow's algorithm had an ROC curve with a score of 0.97, so I compared my results with his. I generated an ROC curve for my own score predictions using his predictions as the truth. The results here will not be as accurate as an ROC curve with the actual truth values for each test sequence, however it should be fairly close."
   ]
  },
  {
   "cell_type": "code",
   "execution_count": 49,
   "metadata": {
    "collapsed": false
   },
   "outputs": [],
   "source": [
    "import csv\n",
    "da=[]\n",
    "with open('ann_predictions_da.txt') as g:\n",
    "    for line in csv.reader(g, dialect=\"excel-tab\"):\n",
    "        da.append(bool(round(float(line[1]))))\n",
    "da = np.array(da)"
   ]
  },
  {
   "cell_type": "code",
   "execution_count": 72,
   "metadata": {
    "collapsed": false
   },
   "outputs": [],
   "source": [
    "tpr = []\n",
    "fpr = []\n",
    "\n",
    "for thresh in np.arange(0,1.01,.01):\n",
    "    nh = ydec_all>thresh\n",
    "    tpr.append(np.sum(da & nh).astype(np.double) / np.sum(da))\n",
    "    fpr.append(np.sum(nh & ~da).astype(np.double) / np.sum(~da))    "
   ]
  },
  {
   "cell_type": "code",
   "execution_count": 73,
   "metadata": {
    "collapsed": false
   },
   "outputs": [
    {
     "name": "stdout",
     "output_type": "stream",
     "text": [
      "Area under ROC = 0.87660640573\n"
     ]
    },
    {
     "data": {
      "image/png": "[encoded data removed]",
      "text/plain": [
       "<matplotlib.figure.Figure at 0x10b58e050>"
      ]
     },
     "metadata": {},
     "output_type": "display_data"
    }
   ],
   "source": [
    "plt.plot(fpr,tpr);\n",
    "plt.xlabel('False positive rate')\n",
    "plt.ylabel('True positive rate')\n",
    "print('Area under ROC =', sp.trapz(tpr[::-1],fpr[::-1]))"
   ]
  },
  {
   "cell_type": "markdown",
   "metadata": {},
   "source": [
    "Next I used the output of the network using bitstrings plus PSSM scores as training and compared my results with Daniel's."
   ]
  },
  {
   "cell_type": "code",
   "execution_count": 66,
   "metadata": {
    "collapsed": false,
    "scrolled": true
   },
   "outputs": [
    {
     "name": "stdout",
     "output_type": "stream",
     "text": [
      "Area under ROC = 0.911724114855\n"
     ]
    },
    {
     "data": {
      "image/png": "[encoded data removed]",
      "text/plain": [
       "<matplotlib.figure.Figure at 0x10cf0b690>"
      ]
     },
     "metadata": {},
     "output_type": "display_data"
    }
   ],
   "source": [
    "tpr2 = []\n",
    "fpr2 = []\n",
    "\n",
    "for thresh in np.arange(0,1.01,.01):\n",
    "    nh2 = ydec_all2>thresh\n",
    "    tpr2.append(np.sum(da & nh2).astype(np.double) / np.sum(da))\n",
    "    fpr2.append(np.sum(nh2 & ~da).astype(np.double) / np.sum(~da))  \n",
    "    \n",
    "plt.plot(fpr2,tpr2)\n",
    "plt.xlabel('False positive rate')\n",
    "plt.ylabel('True positive rate')\n",
    "print('Area under ROC =', sp.trapz(tpr2[::-1],fpr2[::-1]))"
   ]
  },
  {
   "cell_type": "markdown",
   "metadata": {
    "collapsed": true
   },
   "source": [
    "This improved ROC score indicates -- but again, does not prove -- that the addition of the PSSM score to the training data improves the network's predictive ability. From this, I decided to turn in the bitstring+PSSM trained SVM's predictions on the test set."
   ]
  },
  {
   "cell_type": "markdown",
   "metadata": {},
   "source": [
    "If you have any questions, feel free to contact me at nat.hendel@gmail.com"
   ]
  }
 ],
 "metadata": {
  "kernelspec": {
   "display_name": "Python 2",
   "language": "python",
   "name": "python2"
  },
  "language_info": {
   "codemirror_mode": {
    "name": "ipython",
    "version": 2
   },
   "file_extension": ".py",
   "mimetype": "text/x-python",
   "name": "python",
   "nbconvert_exporter": "python",
   "pygments_lexer": "ipython2",
   "version": "2.7.10"
  },
  "toc": {
   "toc_cell": false,
   "toc_number_sections": true,
   "toc_section_display": "none",
   "toc_threshold": 6,
   "toc_window_display": false
  }
 },
 "nbformat": 4,
 "nbformat_minor": 0
}
